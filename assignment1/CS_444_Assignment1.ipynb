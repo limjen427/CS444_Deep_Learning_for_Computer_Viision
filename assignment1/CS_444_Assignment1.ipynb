{
  "cells": [
    {
      "cell_type": "markdown",
      "metadata": {
        "id": "upeM7qkpExgv"
      },
      "source": [
        "# (Optional) Colab Setup\n",
        "If you aren't using Colab, you can delete the following code cell. This is just to help students with mounting to Google Drive to access the other .py files and downloading the data, which is a little trickier on Colab than on your local machine using Jupyter. "
      ]
    },
    {
      "cell_type": "code",
      "execution_count": 115,
      "metadata": {
        "colab": {
          "base_uri": "https://localhost:8080/"
        },
        "id": "VVDAp9rlExgz",
        "outputId": "f76173a2-2989-49c1-d5d1-a7b085ab18d8"
      },
      "outputs": [
        {
          "output_type": "stream",
          "name": "stdout",
          "text": [
            "Drive already mounted at /content/drive; to attempt to forcibly remount, call drive.mount(\"/content/drive\", force_remount=True).\n"
          ]
        }
      ],
      "source": [
        "# you will be prompted with a window asking to grant permissions\n",
        "from google.colab import drive\n",
        "drive.mount(\"/content/drive\")"
      ]
    },
    {
      "cell_type": "code",
      "execution_count": 116,
      "metadata": {
        "colab": {
          "base_uri": "https://localhost:8080/"
        },
        "id": "P5pAVu9CExg0",
        "outputId": "8533917b-ee59-41b7-99f4-85096f6d4461"
      },
      "outputs": [
        {
          "output_type": "stream",
          "name": "stdout",
          "text": [
            "/content/drive/My Drive/Spring2023/cs444/assignment1\n"
          ]
        }
      ],
      "source": [
        "# fill in the path in your Google Drive in the string below. Note: do not escape slashes or spaces\n",
        "import os\n",
        "datadir = \"/content/drive/My Drive/Spring2023/cs444/assignment1/\"\n",
        "if not os.path.exists(datadir):\n",
        "  !ln -s \"/content/drive/My Drive/Spring2023/cs444/assignment1/\" $datadir\n",
        "os.chdir(datadir)\n",
        "!pwd"
      ]
    },
    {
      "cell_type": "code",
      "execution_count": 117,
      "metadata": {
        "colab": {
          "base_uri": "https://localhost:8080/"
        },
        "id": "E90TAKtTExg0",
        "outputId": "6189e4a6-ac08-465a-c8de-1aeaa512773c"
      },
      "outputs": [
        {
          "output_type": "stream",
          "name": "stdout",
          "text": [
            "--2023-02-15 05:33:11--  https://raw.githubusercontent.com/zalandoresearch/fashion-mnist/master/data/fashion/t10k-images-idx3-ubyte.gz\n",
            "Resolving raw.githubusercontent.com (raw.githubusercontent.com)... 185.199.108.133, 185.199.109.133, 185.199.110.133, ...\n",
            "Connecting to raw.githubusercontent.com (raw.githubusercontent.com)|185.199.108.133|:443... connected.\n",
            "HTTP request sent, awaiting response... 200 OK\n",
            "Length: 4422102 (4.2M) [application/octet-stream]\n",
            "Saving to: ‘t10k-images-idx3-ubyte.gz.22’\n",
            "\n",
            "t10k-images-idx3-ub 100%[===================>]   4.22M  --.-KB/s    in 0.1s    \n",
            "\n",
            "2023-02-15 05:33:11 (42.3 MB/s) - ‘t10k-images-idx3-ubyte.gz.22’ saved [4422102/4422102]\n",
            "\n",
            "--2023-02-15 05:33:11--  https://raw.githubusercontent.com/zalandoresearch/fashion-mnist/master/data/fashion/t10k-labels-idx1-ubyte.gz\n",
            "Resolving raw.githubusercontent.com (raw.githubusercontent.com)... 185.199.108.133, 185.199.109.133, 185.199.110.133, ...\n",
            "Connecting to raw.githubusercontent.com (raw.githubusercontent.com)|185.199.108.133|:443... connected.\n",
            "HTTP request sent, awaiting response... 200 OK\n",
            "Length: 5148 (5.0K) [application/octet-stream]\n",
            "Saving to: ‘t10k-labels-idx1-ubyte.gz.22’\n",
            "\n",
            "t10k-labels-idx1-ub 100%[===================>]   5.03K  --.-KB/s    in 0.003s  \n",
            "\n",
            "2023-02-15 05:33:12 (1.70 MB/s) - ‘t10k-labels-idx1-ubyte.gz.22’ saved [5148/5148]\n",
            "\n",
            "--2023-02-15 05:33:12--  https://raw.githubusercontent.com/zalandoresearch/fashion-mnist/master/data/fashion/train-images-idx3-ubyte.gz\n",
            "Resolving raw.githubusercontent.com (raw.githubusercontent.com)... 185.199.108.133, 185.199.109.133, 185.199.110.133, ...\n",
            "Connecting to raw.githubusercontent.com (raw.githubusercontent.com)|185.199.108.133|:443... connected.\n",
            "HTTP request sent, awaiting response... 200 OK\n",
            "Length: 26421880 (25M) [application/octet-stream]\n",
            "Saving to: ‘train-images-idx3-ubyte.gz.22’\n",
            "\n",
            "train-images-idx3-u 100%[===================>]  25.20M  47.1MB/s    in 0.5s    \n",
            "\n",
            "2023-02-15 05:33:12 (47.1 MB/s) - ‘train-images-idx3-ubyte.gz.22’ saved [26421880/26421880]\n",
            "\n",
            "--2023-02-15 05:33:12--  https://raw.githubusercontent.com/zalandoresearch/fashion-mnist/master/data/fashion/train-labels-idx1-ubyte.gz\n",
            "Resolving raw.githubusercontent.com (raw.githubusercontent.com)... 185.199.109.133, 185.199.111.133, 185.199.108.133, ...\n",
            "Connecting to raw.githubusercontent.com (raw.githubusercontent.com)|185.199.109.133|:443... connected.\n",
            "HTTP request sent, awaiting response... 200 OK\n",
            "Length: 29515 (29K) [application/octet-stream]\n",
            "Saving to: ‘train-labels-idx1-ubyte.gz.22’\n",
            "\n",
            "train-labels-idx1-u 100%[===================>]  28.82K  --.-KB/s    in 0.003s  \n",
            "\n",
            "2023-02-15 05:33:13 (10.4 MB/s) - ‘train-labels-idx1-ubyte.gz.22’ saved [29515/29515]\n",
            "\n"
          ]
        }
      ],
      "source": [
        "# downloading Fashion-MNIST\n",
        "import os\n",
        "os.chdir(os.path.join(datadir,\"fashion-mnist/\"))\n",
        "!chmod +x ./get_data.sh\n",
        "!./get_data.sh\n",
        "os.chdir(datadir)"
      ]
    },
    {
      "cell_type": "markdown",
      "metadata": {
        "id": "KBRNKaAbExg2"
      },
      "source": [
        "# Imports"
      ]
    },
    {
      "cell_type": "code",
      "execution_count": 118,
      "metadata": {
        "id": "3hdrklOWExg2",
        "colab": {
          "base_uri": "https://localhost:8080/"
        },
        "outputId": "045c198d-d18d-4b6f-8cda-4e4130953b45"
      },
      "outputs": [
        {
          "output_type": "stream",
          "name": "stdout",
          "text": [
            "The autoreload extension is already loaded. To reload it, use:\n",
            "  %reload_ext autoreload\n"
          ]
        }
      ],
      "source": [
        "import random\n",
        "import numpy as np\n",
        "from data_process import get_FASHION_data, get_RICE_data\n",
        "from scipy.spatial import distance\n",
        "from models import Perceptron, SVM, Softmax, Logistic\n",
        "from kaggle_submission import output_submission_csv\n",
        "%matplotlib inline\n",
        "\n",
        "# For auto-reloading external modules\n",
        "# See http://stackoverflow.com/questions/1907993/autoreload-of-modules-in-ipython\n",
        "%load_ext autoreload\n",
        "%autoreload 2"
      ]
    },
    {
      "cell_type": "markdown",
      "metadata": {
        "id": "u5-pz0DeExg3"
      },
      "source": [
        "# Loading Fashion-MNIST"
      ]
    },
    {
      "cell_type": "markdown",
      "metadata": {
        "id": "VKQF-Wa6Exg3"
      },
      "source": [
        "In the following cells we determine the number of images for each split and load the images.\n",
        "<br /> \n",
        "TRAIN_IMAGES + VAL_IMAGES = (0, 60000]\n",
        ", TEST_IMAGES = 10000"
      ]
    },
    {
      "cell_type": "code",
      "execution_count": 119,
      "metadata": {
        "id": "vN0bc5P5Exg4"
      },
      "outputs": [],
      "source": [
        "# You can change these numbers for experimentation\n",
        "# For submission we will use the default values \n",
        "TRAIN_IMAGES = 50000\n",
        "VAL_IMAGES = 10000\n",
        "normalize = True"
      ]
    },
    {
      "cell_type": "code",
      "execution_count": 120,
      "metadata": {
        "id": "ub7vNY1YExg4"
      },
      "outputs": [],
      "source": [
        "data = get_FASHION_data(TRAIN_IMAGES, VAL_IMAGES, normalize=normalize)\n",
        "X_train_fashion, y_train_fashion = data['X_train'], data['y_train']\n",
        "X_val_fashion, y_val_fashion = data['X_val'], data['y_val']\n",
        "X_test_fashion, y_test_fashion = data['X_test'], data['y_test']\n",
        "n_class_fashion = len(np.unique(y_test_fashion))"
      ]
    },
    {
      "cell_type": "markdown",
      "metadata": {
        "id": "SZv3_jHQExg5"
      },
      "source": [
        "# Loading Rice"
      ]
    },
    {
      "cell_type": "code",
      "execution_count": 121,
      "metadata": {
        "colab": {
          "base_uri": "https://localhost:8080/"
        },
        "id": "YOngERFgExg5",
        "outputId": "f9bb76de-dd67-4fbd-9ae2-7d1145048efc"
      },
      "outputs": [
        {
          "output_type": "stream",
          "name": "stdout",
          "text": [
            "Number of train samples:  10911\n",
            "Number of val samples:  3637\n",
            "Number of test samples:  3637\n"
          ]
        }
      ],
      "source": [
        "# loads train / test / val splits of 80%, 20%, 20% \n",
        "data = get_RICE_data()\n",
        "X_train_RICE, y_train_RICE = data['X_train'], data['y_train']\n",
        "X_val_RICE, y_val_RICE = data['X_val'], data['y_val']\n",
        "X_test_RICE, y_test_RICE = data['X_test'], data['y_test']\n",
        "n_class_RICE = len(np.unique(y_test_RICE))\n",
        "\n",
        "print(\"Number of train samples: \", X_train_RICE.shape[0])\n",
        "print(\"Number of val samples: \", X_val_RICE.shape[0])\n",
        "print(\"Number of test samples: \", X_test_RICE.shape[0])"
      ]
    },
    {
      "cell_type": "markdown",
      "metadata": {
        "id": "WxoYTMWGExg5"
      },
      "source": [
        "### Get Accuracy"
      ]
    },
    {
      "cell_type": "markdown",
      "metadata": {
        "id": "aCzgbv2jExg5"
      },
      "source": [
        "This function computes how well your model performs using accuracy as a metric."
      ]
    },
    {
      "cell_type": "code",
      "execution_count": 122,
      "metadata": {
        "id": "LfKOK3JNExg6"
      },
      "outputs": [],
      "source": [
        "def get_acc(pred, y_test):\n",
        "    return np.sum(y_test == pred) / len(y_test) * 100"
      ]
    },
    {
      "cell_type": "markdown",
      "metadata": {
        "id": "etkCdmReExg6"
      },
      "source": [
        "# Perceptron"
      ]
    },
    {
      "cell_type": "markdown",
      "metadata": {
        "id": "Zc2R88yWExg6"
      },
      "source": [
        "Perceptron has 2 hyperparameters that you can experiment with:\n",
        "- **Learning rate** - controls how much we change the current weights of the classifier during each update. We set it at a default value of 0.5, but you should experiment with different values. We recommend changing the learning rate by factors of 10 and observing how the performance of the classifier changes. You should also try adding a **decay** which slowly reduces the learning rate over each epoch.\n",
        "- **Number of Epochs** - An epoch is a complete iterative pass over all of the data in the dataset. During an epoch we predict a label using the classifier and then update the weights of the classifier according to the perceptron update rule for each sample in the training set. You should try different values for the number of training epochs and report your results."
      ]
    },
    {
      "cell_type": "markdown",
      "metadata": {
        "id": "qfwCwZGiExg6"
      },
      "source": [
        "You will implement the Perceptron classifier in the **models/perceptron.py**\n",
        "\n",
        "The following code: \n",
        "- Creates an instance of the Perceptron classifier class \n",
        "- The train function of the Perceptron class is trained on the training data\n",
        "- We use the predict function to find the training accuracy as well as the testing accuracy\n"
      ]
    },
    {
      "cell_type": "code",
      "source": [
        "\"\"\"Perceptron model.\"\"\"\n",
        "\n",
        "import numpy as np\n",
        "\n",
        "\n",
        "class Perceptron:\n",
        "  def __init__(self, n_class: int, lr: float, epochs: int):\n",
        "    \"\"\"Initialize a new classifier.\n",
        "\n",
        "    Parameters:\n",
        "        n_class: the number of classes\n",
        "        lr: the learning rate\n",
        "        epochs: the number of epochs to train for\n",
        "    \"\"\"\n",
        "    self.w = None\n",
        "    self.lr = lr\n",
        "    self.epochs = epochs\n",
        "    self.n_class = n_class\n",
        "\n",
        "  def train(self, X_train: np.ndarray, y_train: np.ndarray):\n",
        "    \"\"\"Train the classifier.\n",
        "\n",
        "    Use the perceptron update rule as introduced in the Lecture.\n",
        "\n",
        "    Parameters:\n",
        "        X_train: a number array of shape (N, D) containing training data;\n",
        "            N examples with D dimensions\n",
        "        y_train: a numpy array of shape (N,) containing training labels\n",
        "    \"\"\"\n",
        "    N, D = X_train.shape\n",
        "    C = self.n_class\n",
        "    self.w = np.random.randn(C, D)\n",
        "\n",
        "    for epoch in range(self.epochs):\n",
        "      for i in range(N):\n",
        "        w_yi = self.w[y_train[i]] @ X_train[i]\n",
        "        for c in range(C):\n",
        "          w_c = self.w[c] @ X_train[i]\n",
        "          if w_c > w_yi:\n",
        "            self.w[y_train[i]] += (self.lr * X_train[i])\n",
        "            self.w[c] -= (self.lr * X_train[i])\n",
        "\n",
        "        self.lr *= np.exp(-1 * (epoch * 0.001))\n",
        "\n",
        "  def predict(self, X_test: np.ndarray) -> np.ndarray:\n",
        "    \"\"\"Use the trained weights to predict labels for test data points.\n",
        "\n",
        "    Parameters:\n",
        "        X_test: a numpy array of shape (N, D) containing testing data;\n",
        "            N examples with D dimensions\n",
        "\n",
        "    Returns:\n",
        "        predicted labels for the data in X_test; a 1-dimensional array of\n",
        "            length N, where each element is an integer giving the predicted\n",
        "            class.\n",
        "    \"\"\"\n",
        "    # N, D = X_test.shape\n",
        "    # self.w = self.w.reshape(D, 1)\n",
        "    pred = np.dot(X_test, self.w.T)\n",
        "    return np.argmax(pred, axis=1)\n"
      ],
      "metadata": {
        "id": "Ax0ans2FpTSO"
      },
      "execution_count": null,
      "outputs": []
    },
    {
      "cell_type": "markdown",
      "metadata": {
        "id": "UltQiDpiExg7"
      },
      "source": [
        "## Train Perceptron on Fashion-MNIST"
      ]
    },
    {
      "cell_type": "code",
      "execution_count": null,
      "metadata": {
        "id": "91reU8EcExg7"
      },
      "outputs": [],
      "source": [
        "lr = 0.5\n",
        "n_epochs = 10\n",
        "\n",
        "percept_fashion = Perceptron(n_class_fashion, lr, n_epochs)\n",
        "percept_fashion.train(X_train_fashion, y_train_fashion)"
      ]
    },
    {
      "cell_type": "code",
      "execution_count": null,
      "metadata": {
        "colab": {
          "base_uri": "https://localhost:8080/"
        },
        "id": "K45wAoq6Exg7",
        "outputId": "5d390981-5ed5-4d28-fbfb-51a0bf30ad91"
      },
      "outputs": [
        {
          "output_type": "stream",
          "name": "stdout",
          "text": [
            "The training accuracy is given by: 84.234000\n"
          ]
        }
      ],
      "source": [
        "pred_percept = percept_fashion.predict(X_train_fashion)\n",
        "print('The training accuracy is given by: %f' % (get_acc(pred_percept, y_train_fashion)))"
      ]
    },
    {
      "cell_type": "markdown",
      "metadata": {
        "id": "VZ6GjLtDExg7"
      },
      "source": [
        "### Validate Perceptron on Fashion-MNIST"
      ]
    },
    {
      "cell_type": "code",
      "execution_count": null,
      "metadata": {
        "colab": {
          "base_uri": "https://localhost:8080/"
        },
        "id": "SVAzOxfFExg8",
        "outputId": "7f35ceae-6eea-4189-c727-054f4f238e4e"
      },
      "outputs": [
        {
          "output_type": "stream",
          "name": "stdout",
          "text": [
            "The validation accuracy is given by: 83.110000\n"
          ]
        }
      ],
      "source": [
        "pred_percept = percept_fashion.predict(X_val_fashion)\n",
        "print('The validation accuracy is given by: %f' % (get_acc(pred_percept, y_val_fashion)))"
      ]
    },
    {
      "cell_type": "markdown",
      "metadata": {
        "id": "6OvTAYmQExg8"
      },
      "source": [
        "### Test Perceptron on Fashion-MNIST"
      ]
    },
    {
      "cell_type": "code",
      "execution_count": null,
      "metadata": {
        "colab": {
          "base_uri": "https://localhost:8080/"
        },
        "id": "gKHLecdmExg8",
        "outputId": "eb32d1a0-1e51-46fe-a866-84e9f7eb31ef"
      },
      "outputs": [
        {
          "output_type": "stream",
          "name": "stdout",
          "text": [
            "The testing accuracy is given by: 81.910000\n"
          ]
        }
      ],
      "source": [
        "pred_percept = percept_fashion.predict(X_test_fashion)\n",
        "print('The testing accuracy is given by: %f' % (get_acc(pred_percept, y_test_fashion)))"
      ]
    },
    {
      "cell_type": "markdown",
      "metadata": {
        "id": "Ap-P4Au9Exg8"
      },
      "source": [
        "### Perceptron_Fashion-MNIST Kaggle Submission\n",
        "\n",
        "Once you are satisfied with your solution and test accuracy, output a file to submit your test set predictions to the Kaggle for Assignment 1 Fashion-MNIST. Use the following code to do so:"
      ]
    },
    {
      "cell_type": "code",
      "execution_count": null,
      "metadata": {
        "id": "khJcTch2Exg9"
      },
      "outputs": [],
      "source": [
        "output_submission_csv('kaggle/perceptron_submission_fashion.csv', percept_fashion.predict(X_test_fashion))"
      ]
    },
    {
      "cell_type": "markdown",
      "metadata": {
        "id": "dSFIqszuExg9"
      },
      "source": [
        "## Train Perceptron on Rice"
      ]
    },
    {
      "cell_type": "code",
      "execution_count": null,
      "metadata": {
        "id": "HYOwljmjExg9"
      },
      "outputs": [],
      "source": [
        "lr = 0.5\n",
        "n_epochs = 10\n",
        "\n",
        "percept_RICE = Perceptron(n_class_RICE, lr, n_epochs)\n",
        "percept_RICE.train(X_train_RICE, y_train_RICE)"
      ]
    },
    {
      "cell_type": "code",
      "execution_count": null,
      "metadata": {
        "colab": {
          "base_uri": "https://localhost:8080/"
        },
        "id": "29bHfgMlExg9",
        "outputId": "ea4f0eae-facf-45d5-e614-e278c92f0de2"
      },
      "outputs": [
        {
          "output_type": "stream",
          "name": "stdout",
          "text": [
            "The training accuracy is given by: 99.853359\n"
          ]
        }
      ],
      "source": [
        "pred_percept = percept_RICE.predict(X_train_RICE)\n",
        "print('The training accuracy is given by: %f' % (get_acc(pred_percept, y_train_RICE)))"
      ]
    },
    {
      "cell_type": "markdown",
      "metadata": {
        "id": "LZfGAt7YExg-"
      },
      "source": [
        "### Validate Perceptron on Rice"
      ]
    },
    {
      "cell_type": "code",
      "execution_count": null,
      "metadata": {
        "colab": {
          "base_uri": "https://localhost:8080/"
        },
        "id": "yl0TTF8cExg-",
        "outputId": "0dc99579-d1fa-46b9-82b4-c8b812287984"
      },
      "outputs": [
        {
          "output_type": "stream",
          "name": "stdout",
          "text": [
            "The validation accuracy is given by: 99.807534\n"
          ]
        }
      ],
      "source": [
        "pred_percept = percept_RICE.predict(X_val_RICE)\n",
        "print('The validation accuracy is given by: %f' % (get_acc(pred_percept, y_val_RICE)))"
      ]
    },
    {
      "cell_type": "markdown",
      "metadata": {
        "id": "wJD_GoXUExg-"
      },
      "source": [
        "### Test Perceptron on Rice"
      ]
    },
    {
      "cell_type": "code",
      "execution_count": null,
      "metadata": {
        "colab": {
          "base_uri": "https://localhost:8080/"
        },
        "id": "jmjhShT7Exg_",
        "outputId": "1ccb9a88-e593-42ba-f8f7-6eaca425f0c2"
      },
      "outputs": [
        {
          "output_type": "stream",
          "name": "stdout",
          "text": [
            "The testing accuracy is given by: 99.725048\n"
          ]
        }
      ],
      "source": [
        "pred_percept = percept_RICE.predict(X_test_RICE)\n",
        "print('The testing accuracy is given by: %f' % (get_acc(pred_percept, y_test_RICE)))"
      ]
    },
    {
      "cell_type": "markdown",
      "metadata": {
        "id": "vvgnLzdRExg_"
      },
      "source": [
        "# Support Vector Machines (with SGD)"
      ]
    },
    {
      "cell_type": "markdown",
      "metadata": {
        "id": "8dylyk_mExhA"
      },
      "source": [
        "Next, you will implement a \"soft margin\" SVM. In this formulation you will maximize the margin between positive and negative training examples and penalize margin violations using a hinge loss.\n",
        "\n",
        "We will optimize the SVM loss using SGD. This means you must compute the loss function with respect to model weights. You will use this gradient to update the model weights.\n",
        "\n",
        "SVM optimized with SGD has 3 hyperparameters that you can experiment with:\n",
        "- **Learning rate** - similar to as defined above in Perceptron, this parameter scales by how much the weights are changed according to the calculated gradient update. \n",
        "- **Epochs** - similar to as defined above in Perceptron.\n",
        "- **Regularization constant** - Hyperparameter to determine the strength of regularization. In this case it is a coefficient on the term which maximizes the margin. You could try different values. The default value is set to 0.05."
      ]
    },
    {
      "cell_type": "markdown",
      "metadata": {
        "id": "EZvFxuIUExhA"
      },
      "source": [
        "You will implement the SVM using SGD in the **models/svm.py**\n",
        "\n",
        "The following code: \n",
        "- Creates an instance of the SVM classifier class \n",
        "- The train function of the SVM class is trained on the training data\n",
        "- We use the predict function to find the training accuracy as well as the testing accuracy"
      ]
    },
    {
      "cell_type": "code",
      "execution_count": 165,
      "metadata": {
        "id": "DF9AZj56PuI4"
      },
      "outputs": [],
      "source": [
        "\"\"\"Support Vector Machine (SVM) model.\"\"\"\n",
        "\n",
        "import numpy as np\n",
        "\n",
        "\n",
        "class SVM:\n",
        "  def __init__(self, n_class: int, lr: float, epochs: int, reg_const: float):\n",
        "    \"\"\"Initialize a new classifier.\n",
        "\n",
        "    Parameters:\n",
        "        n_class: the number of classes\n",
        "        lr: the learning rate\n",
        "        epochs: the number of epochs to train for\n",
        "        reg_const: the regularization constant\n",
        "    \"\"\"\n",
        "    self.w = None  # TODO: change this\n",
        "    self.lr = lr\n",
        "    self.epochs = epochs\n",
        "    self.reg_const = reg_const\n",
        "    self.n_class = n_class\n",
        "    self.batch_size = 256\n",
        "\n",
        "  def calc_gradient(self, X_train: np.ndarray, y_train: np.ndarray) -> np.ndarray:\n",
        "    \"\"\"Calculate gradient of the svm hinge loss.\n",
        "\n",
        "    Inputs have dimension D, there are C classes, and we operate on\n",
        "    mini-batches of N examples.\n",
        "\n",
        "    Parameters:\n",
        "        X_train: a numpy array of shape (N, D) containing a mini-batch\n",
        "            of data\n",
        "        y_train: a numpy array of shape (N,) containing training labels;\n",
        "            y[i] = c means that X[i] has label c, where 0 <= c < C\n",
        "\n",
        "    Returns:\n",
        "        the gradient with respect to weights w; an array of the same shape\n",
        "            as w\n",
        "    \"\"\"\n",
        "    # TODO: implement me\n",
        "    N, D = X_train.shape\n",
        "    C = self.n_class\n",
        "    grad = np.zeros((C, D))\n",
        "\n",
        "    for i in range(N):\n",
        "      scores = self.w @ X_train[i]\n",
        "      correct_class_score = scores[y_train[i]]\n",
        "      for j in range(C):\n",
        "        if j == y_train[i]:\n",
        "          continue\n",
        "        margin = scores[j] - correct_class_score + 1\n",
        "        if margin > 0:\n",
        "          grad[j, :] += X_train[i, :]\n",
        "          grad[y_train[i], :] -= X_train[i, :]\n",
        "\n",
        "    grad /= N\n",
        "    grad += 2 * self.reg_const * self.w\n",
        "\n",
        "    return grad\n",
        "\n",
        "  def train(self, X_train: np.ndarray, y_train: np.ndarray):\n",
        "    \"\"\"Train the classifier.\n",
        "\n",
        "    Hint: operate on mini-batches of data for SGD.\n",
        "\n",
        "    Parameters:\n",
        "        X_train: a numpy array of shape (N, D) containing training data;\n",
        "            N examples with D dimensions\n",
        "        y_train: a numpy array of shape (N,) containing training labels\n",
        "    \"\"\"\n",
        "    # TODO: implement me\n",
        "    N, D = X_train.shape\n",
        "    C = self.n_class\n",
        "    self.w = np.random.randn(C, D)\n",
        "    num_batch = N // self.batch_size\n",
        "\n",
        "    for epoch in range(self.epochs):\n",
        "      for batch in range(num_batch):\n",
        "        i = np.random.choice(N, self.batch_size, replace=False)\n",
        "        x_i = X_train[i]\n",
        "        y_i = y_train[i]\n",
        "        grad = self.calc_gradient(x_i, y_i)\n",
        "        self.w -= self.lr * grad\n",
        "      self.lr *= np.exp(-1 * (epoch))\n",
        "\n",
        "  def predict(self, X_test: np.ndarray) -> np.ndarray:\n",
        "    \"\"\"Use the trained weights to predict labels for test data points.\n",
        "\n",
        "    Parameters:\n",
        "        X_test: a numpy array of shape (N, D) containing testing data;\n",
        "            N examples with D dimensions\n",
        "\n",
        "    Returns:\n",
        "        predicted labels for the data in X_test; a 1-dimensional array of\n",
        "            length N, where each element is an integer giving the predicted\n",
        "            class.\n",
        "    \"\"\"\n",
        "    # TODO: implement me\n",
        "  \n",
        "    pred = np.dot(X_test, self.w.T)\n",
        "    return np.argmax(pred, axis=1) # min\n"
      ]
    },
    {
      "cell_type": "markdown",
      "metadata": {
        "id": "wtCN0YyPExhA"
      },
      "source": [
        "## Train SVM on Fashion-MNIST"
      ]
    },
    {
      "cell_type": "code",
      "execution_count": 166,
      "metadata": {
        "id": "-PtCtZbtExhB"
      },
      "outputs": [],
      "source": [
        "lr = 0.05\n",
        "n_epochs = 25\n",
        "reg_const = 0.005\n",
        "svm_fashion = SVM(n_class_fashion, lr, n_epochs, reg_const)\n",
        "svm_fashion.train(X_train_fashion, y_train_fashion)"
      ]
    },
    {
      "cell_type": "code",
      "execution_count": 167,
      "metadata": {
        "colab": {
          "base_uri": "https://localhost:8080/"
        },
        "id": "fSZUuK7wExhB",
        "outputId": "08515de3-9f8a-42a2-cf63-74bd2772c831"
      },
      "outputs": [
        {
          "output_type": "stream",
          "name": "stdout",
          "text": [
            "The training accuracy is given by: 84.164000\n"
          ]
        }
      ],
      "source": [
        "pred_svm = svm_fashion.predict(X_train_fashion)\n",
        "print('The training accuracy is given by: %f' % (get_acc(pred_svm, y_train_fashion)))"
      ]
    },
    {
      "cell_type": "markdown",
      "metadata": {
        "id": "DYmMrNTOExhB"
      },
      "source": [
        "### Validate SVM on Fashion-MNIST"
      ]
    },
    {
      "cell_type": "code",
      "execution_count": 168,
      "metadata": {
        "id": "SQQn0ihvExhB",
        "colab": {
          "base_uri": "https://localhost:8080/"
        },
        "outputId": "5fa94064-ab5c-496e-ddec-9865dd384dab"
      },
      "outputs": [
        {
          "output_type": "stream",
          "name": "stdout",
          "text": [
            "The validation accuracy is given by: 82.720000\n"
          ]
        }
      ],
      "source": [
        "pred_svm = svm_fashion.predict(X_val_fashion)\n",
        "print('The validation accuracy is given by: %f' % (get_acc(pred_svm, y_val_fashion)))"
      ]
    },
    {
      "cell_type": "markdown",
      "metadata": {
        "id": "MRTMUXPGExhC"
      },
      "source": [
        "### Test SVM on Fashion-MNIST"
      ]
    },
    {
      "cell_type": "code",
      "execution_count": 169,
      "metadata": {
        "id": "9k8pTQgPExhC",
        "colab": {
          "base_uri": "https://localhost:8080/"
        },
        "outputId": "46cf57df-dec5-4a7a-dc48-3e863513546e"
      },
      "outputs": [
        {
          "output_type": "stream",
          "name": "stdout",
          "text": [
            "The testing accuracy is given by: 82.080000\n"
          ]
        }
      ],
      "source": [
        "pred_svm = svm_fashion.predict(X_test_fashion)\n",
        "print('The testing accuracy is given by: %f' % (get_acc(pred_svm, y_test_fashion)))"
      ]
    },
    {
      "cell_type": "markdown",
      "metadata": {
        "id": "ODcD2Xf0ExhC"
      },
      "source": [
        "### SVM_Fashion-MNIST Kaggle Submission\n",
        "\n",
        "Once you are satisfied with your solution and test accuracy output a file to submit your test set predictions to the Kaggle for Assignment 1 Fashion-MNIST. Use the following code to do so:"
      ]
    },
    {
      "cell_type": "code",
      "execution_count": 133,
      "metadata": {
        "id": "b6C36hqCExhD"
      },
      "outputs": [],
      "source": [
        "output_submission_csv('kaggle/svm_submission_fashion.csv', svm_fashion.predict(X_test_fashion))"
      ]
    },
    {
      "cell_type": "markdown",
      "metadata": {
        "id": "_cWUDmq0ExhD"
      },
      "source": [
        "## Train SVM on Rice"
      ]
    },
    {
      "cell_type": "code",
      "execution_count": 23,
      "metadata": {
        "id": "SAgZSIOHExhD"
      },
      "outputs": [],
      "source": [
        "lr = 0.001\n",
        "n_epochs = 100\n",
        "reg_const = 0.5\n",
        "\n",
        "svm_RICE = SVM(n_class_RICE, lr, n_epochs, reg_const)\n",
        "svm_RICE.train(X_train_RICE, y_train_RICE)"
      ]
    },
    {
      "cell_type": "code",
      "execution_count": 24,
      "metadata": {
        "id": "pAPzXP87ExhD",
        "colab": {
          "base_uri": "https://localhost:8080/"
        },
        "outputId": "53638647-9ee2-4ea7-d6a4-bd0c29d7e257"
      },
      "outputs": [
        {
          "output_type": "stream",
          "name": "stdout",
          "text": [
            "The training accuracy is given by: 99.688388\n"
          ]
        }
      ],
      "source": [
        "pred_svm = svm_RICE.predict(X_train_RICE)\n",
        "print('The training accuracy is given by: %f' % (get_acc(pred_svm, y_train_RICE)))"
      ]
    },
    {
      "cell_type": "markdown",
      "metadata": {
        "id": "jePwb-DnExhD"
      },
      "source": [
        "### Validate SVM on Rice"
      ]
    },
    {
      "cell_type": "code",
      "execution_count": 25,
      "metadata": {
        "id": "dpYBf6jXExhD",
        "colab": {
          "base_uri": "https://localhost:8080/"
        },
        "outputId": "3b6cd535-1080-4592-c900-5631e970913c"
      },
      "outputs": [
        {
          "output_type": "stream",
          "name": "stdout",
          "text": [
            "The validation accuracy is given by: 99.642563\n"
          ]
        }
      ],
      "source": [
        "pred_svm = svm_RICE.predict(X_val_RICE)\n",
        "print('The validation accuracy is given by: %f' % (get_acc(pred_svm, y_val_RICE)))"
      ]
    },
    {
      "cell_type": "markdown",
      "metadata": {
        "id": "h1ksOhAjExhD"
      },
      "source": [
        "## Test SVM on Rice"
      ]
    },
    {
      "cell_type": "code",
      "execution_count": 26,
      "metadata": {
        "id": "q_ber-yyExhE",
        "colab": {
          "base_uri": "https://localhost:8080/"
        },
        "outputId": "f5bd7466-28d2-41e1-c7bb-4763879262da"
      },
      "outputs": [
        {
          "output_type": "stream",
          "name": "stdout",
          "text": [
            "The testing accuracy is given by: 99.560077\n"
          ]
        }
      ],
      "source": [
        "pred_svm = svm_RICE.predict(X_test_RICE)\n",
        "print('The testing accuracy is given by: %f' % (get_acc(pred_svm, y_test_RICE)))"
      ]
    },
    {
      "cell_type": "markdown",
      "metadata": {
        "id": "Nzz6NEwtExhE"
      },
      "source": [
        "# Softmax Classifier (with SGD)"
      ]
    },
    {
      "cell_type": "markdown",
      "metadata": {
        "collapsed": true,
        "id": "I9c1MLeTExhE"
      },
      "source": [
        "Next, you will train a Softmax classifier. This classifier consists of a linear function of the input data followed by a softmax function which outputs a vector of dimension C (number of classes) for each data point. Each entry of the softmax output vector corresponds to a confidence in one of the C classes, and like a probability distribution, the entries of the output vector sum to 1. We use a cross-entropy loss on this sotmax output to train the model. \n",
        "\n",
        "Check the following link as an additional resource on softmax classification: http://cs231n.github.io/linear-classify/#softmax\n",
        "\n",
        "Once again we will train the classifier with SGD. This means you need to compute the gradients of the softmax cross-entropy loss function according to the weights and update the weights using this gradient. Check the following link to help with implementing the gradient updates: https://deepnotes.io/softmax-crossentropy"
      ]
    },
    {
      "cell_type": "markdown",
      "metadata": {
        "id": "UcDP5EvzExhE"
      },
      "source": [
        "The softmax classifier has 3 hyperparameters that you can experiment with:\n",
        "- **Learning rate** - As above, this controls how much the model weights are updated with respect to their gradient.\n",
        "- **Number of Epochs** - As described for perceptron.\n",
        "- **Regularization constant** - Hyperparameter to determine the strength of regularization. In this case, we minimize the L2 norm of the model weights as regularization, so the regularization constant is a coefficient on the L2 norm in the combined cross-entropy and regularization objective."
      ]
    },
    {
      "cell_type": "markdown",
      "metadata": {
        "id": "NgWfcBnhExhE"
      },
      "source": [
        "You will implement a softmax classifier using SGD in the **models/softmax.py**\n",
        "\n",
        "The following code: \n",
        "- Creates an instance of the Softmax classifier class \n",
        "- The train function of the Softmax class is trained on the training data\n",
        "- We use the predict function to find the training accuracy as well as the testing accuracy"
      ]
    },
    {
      "cell_type": "code",
      "source": [
        "\"\"\"Softmax model.\"\"\"\n",
        "\n",
        "import numpy as np\n",
        "\n",
        "\n",
        "class Softmax:\n",
        "  def __init__(self, n_class: int, lr: float, epochs: int, reg_const: float):\n",
        "    \"\"\"Initialize a new classifier.\n",
        "\n",
        "    Parameters:\n",
        "        n_class: the number of classes\n",
        "        lr: the learning rate\n",
        "        epochs: the number of epochs to train for\n",
        "        reg_const: the regularization constant\n",
        "    \"\"\"\n",
        "    self.w = None  # TODO: change this\n",
        "    self.lr = lr\n",
        "    self.epochs = epochs\n",
        "    self.reg_const = reg_const\n",
        "    self.n_class = n_class\n",
        "\n",
        "  def calc_gradient(self, X_train: np.ndarray, y_train: np.ndarray) -> np.ndarray:\n",
        "    \"\"\"Calculate gradient of the softmax loss.\n",
        "\n",
        "    Inputs have dimension D, there are C classes, and we operate on\n",
        "    mini-batches of N examples.\n",
        "\n",
        "    Parameters:\n",
        "        X_train: a numpy array of shape (N, D) containing a mini-batch\n",
        "            of data\n",
        "        y_train: a numpy array of shape (N,) containing training labels;\n",
        "            y[i] = c means that X[i] has label c, where 0 <= c < C\n",
        "\n",
        "    Returns:\n",
        "        gradient with respect to weights w; an array of same shape as w\n",
        "    \"\"\"\n",
        "    # TODO: implement me\n",
        "    gradient = self.reg_const * self.w\n",
        "    const_k = np.max(self.score, axis = 1, keepdims=True)\n",
        "    self.score = np.exp(self.score-const_k)\n",
        "    self.score /= np.sum(self.score,axis=1, keepdims=True)\n",
        "    \n",
        "    \n",
        "    ground_truth = self.score[np.arange(X_train.shape[0]), y_train]\n",
        "    self.score[np.arange(X_train.shape[0]), y_train] = 0\n",
        "    \n",
        "    for i in range(X_train.shape[0]):\n",
        "      gradient += X_train[i][:,np.newaxis] * self.score[i]\n",
        "      gradient[:, y_train[i]] += (ground_truth[i] - 1) * X_train[i]\n",
        "      \n",
        "    return gradient\n",
        "\n",
        "  def train(self, X_train: np.ndarray, y_train: np.ndarray):\n",
        "    \"\"\"Train the classifier.\n",
        "\n",
        "    Hint: operate on mini-batches of data for SGD.\n",
        "\n",
        "    Parameters:\n",
        "        X_train: a numpy array of shape (N, D) containing training data;\n",
        "            N examples with D dimensions\n",
        "        y_train: a numpy array of shape (N,) containing training labels\n",
        "    \"\"\"\n",
        "    # TODO: implement me\n",
        "    self.w = np.random.rand(X_train.shape[1],10)\n",
        "    betch_size = 128\n",
        "    for e in range(self.epochs):\n",
        "      self.lr /= (1+e)\n",
        "      for i in range(X_train.shape[0]):\n",
        "        x = X_train[i*betch_size: (i+1) * betch_size]\n",
        "        y = y_train[i*betch_size: (i+1) * betch_size]\n",
        "        self.score = x.dot(self.w)\n",
        "        self.w -= self.lr * self.calc_gradient(x,y)\n",
        "    return\n",
        "\n",
        "  def predict(self, X_test: np.ndarray) -> np.ndarray:\n",
        "    \"\"\"Use the trained weights to predict labels for test data points.\n",
        "\n",
        "    Parameters:\n",
        "        X_test: a numpy array of shape (N, D) containing testing data;\n",
        "            N examples with D dimensions\n",
        "\n",
        "    Returns:\n",
        "        predicted labels for the data in X_test; a 1-dimensional array of\n",
        "            length N, where each element is an integer giving the predicted\n",
        "            class.\n",
        "    \"\"\"\n",
        "    # TODO: implement me\n",
        "    pred = X_test.dot(self.w).argmax(axis=1)\n",
        "    return pred\n"
      ],
      "metadata": {
        "id": "ZoxdondHb5j8"
      },
      "execution_count": 171,
      "outputs": []
    },
    {
      "cell_type": "markdown",
      "metadata": {
        "id": "yMpu3OjGExhE"
      },
      "source": [
        "## Train Softmax on Fashion-MNIST"
      ]
    },
    {
      "cell_type": "code",
      "execution_count": null,
      "metadata": {
        "id": "93T9s37GExhE"
      },
      "outputs": [],
      "source": [
        "lr = 0.5\n",
        "n_epochs = 10\n",
        "reg_const = 0.5\n",
        "\n",
        "softmax_fashion = Softmax(n_class_fashion, lr, n_epochs, reg_const)\n",
        "softmax_fashion.train(X_train_fashion, y_train_fashion)"
      ]
    },
    {
      "cell_type": "code",
      "execution_count": null,
      "metadata": {
        "id": "dw_9I1UsExhE",
        "colab": {
          "base_uri": "https://localhost:8080/"
        },
        "outputId": "d3720fbf-fb73-4355-ebb1-927411322d11"
      },
      "outputs": [
        {
          "output_type": "stream",
          "name": "stdout",
          "text": [
            "The training accuracy is given by: 85.258000\n"
          ]
        }
      ],
      "source": [
        "pred_softmax = softmax_fashion.predict(X_train_fashion)\n",
        "print('The training accuracy is given by: %f' % (get_acc(pred_softmax, y_train_fashion)))"
      ]
    },
    {
      "cell_type": "markdown",
      "metadata": {
        "id": "MX5L132qExhF"
      },
      "source": [
        "### Validate Softmax on Fashion-MNIST"
      ]
    },
    {
      "cell_type": "code",
      "execution_count": null,
      "metadata": {
        "id": "HP3aJaenExhF",
        "colab": {
          "base_uri": "https://localhost:8080/"
        },
        "outputId": "1a0756c0-7fd9-4bd1-cfbc-b72ae82fb0a8"
      },
      "outputs": [
        {
          "output_type": "stream",
          "name": "stdout",
          "text": [
            "The validation accuracy is given by: 83.470000\n"
          ]
        }
      ],
      "source": [
        "pred_softmax = softmax_fashion.predict(X_val_fashion)\n",
        "print('The validation accuracy is given by: %f' % (get_acc(pred_softmax, y_val_fashion)))"
      ]
    },
    {
      "cell_type": "markdown",
      "metadata": {
        "id": "EKjUt0kEExhF"
      },
      "source": [
        "### Testing Softmax on Fashion-MNIST"
      ]
    },
    {
      "cell_type": "code",
      "execution_count": null,
      "metadata": {
        "id": "m1MX2hHwExhF",
        "colab": {
          "base_uri": "https://localhost:8080/"
        },
        "outputId": "a2041d00-d406-4e1a-cf08-4eddce6a797c"
      },
      "outputs": [
        {
          "output_type": "stream",
          "name": "stdout",
          "text": [
            "The testing accuracy is given by: 82.820000\n"
          ]
        }
      ],
      "source": [
        "pred_softmax = softmax_fashion.predict(X_test_fashion)\n",
        "print('The testing accuracy is given by: %f' % (get_acc(pred_softmax, y_test_fashion)))"
      ]
    },
    {
      "cell_type": "markdown",
      "metadata": {
        "id": "1A-cEpNOExhF"
      },
      "source": [
        "### Softmax_Fashion-MNIST Kaggle Submission\n",
        "\n",
        "Once you are satisfied with your solution and test accuracy output a file to submit your test set predictions to the Kaggle for Assignment 1 Fashion-MNIST. Use the following code to do so:"
      ]
    },
    {
      "cell_type": "code",
      "execution_count": null,
      "metadata": {
        "id": "XtFTX1FJExhF"
      },
      "outputs": [],
      "source": [
        "output_submission_csv('kaggle/softmax_submission_fashion.csv', softmax_fashion.predict(X_test_fashion))"
      ]
    },
    {
      "cell_type": "markdown",
      "metadata": {
        "id": "1MFZ0GCmExhF"
      },
      "source": [
        "## Train Softmax on Rice"
      ]
    },
    {
      "cell_type": "code",
      "execution_count": 172,
      "metadata": {
        "id": "LL-JZtf1ExhF"
      },
      "outputs": [],
      "source": [
        "lr = 0.01\n",
        "n_epochs = 50\n",
        "reg_const = 0.9\n",
        "\n",
        "#0.01, 50, 0.9\n",
        "\n",
        "softmax_RICE = Softmax(n_class_RICE, lr, n_epochs, reg_const)\n",
        "softmax_RICE.train(X_train_RICE, y_train_RICE)"
      ]
    },
    {
      "cell_type": "code",
      "execution_count": 173,
      "metadata": {
        "id": "UdNMHec_ExhF",
        "colab": {
          "base_uri": "https://localhost:8080/"
        },
        "outputId": "15fbf66c-2fc4-4499-87d5-0cf28ff2b817"
      },
      "outputs": [
        {
          "output_type": "stream",
          "name": "stdout",
          "text": [
            "The training accuracy is given by: 99.789204\n"
          ]
        }
      ],
      "source": [
        "pred_softmax = softmax_RICE.predict(X_train_RICE)\n",
        "print('The training accuracy is given by: %f' % (get_acc(pred_softmax, y_train_RICE)))"
      ]
    },
    {
      "cell_type": "markdown",
      "metadata": {
        "id": "PYoSrA9EExhG"
      },
      "source": [
        "### Validate Softmax on Rice"
      ]
    },
    {
      "cell_type": "code",
      "execution_count": 174,
      "metadata": {
        "id": "A0yqhqdqExhG",
        "colab": {
          "base_uri": "https://localhost:8080/"
        },
        "outputId": "01a52e2e-9e2c-4b7c-a2c6-4622d7b8be6b"
      },
      "outputs": [
        {
          "output_type": "stream",
          "name": "stdout",
          "text": [
            "The validation accuracy is given by: 99.835029\n"
          ]
        }
      ],
      "source": [
        "pred_softmax = softmax_RICE.predict(X_val_RICE)\n",
        "print('The validation accuracy is given by: %f' % (get_acc(pred_softmax, y_val_RICE)))"
      ]
    },
    {
      "cell_type": "markdown",
      "metadata": {
        "id": "rOyxuX6KExhG"
      },
      "source": [
        "### Testing Softmax on Rice"
      ]
    },
    {
      "cell_type": "code",
      "execution_count": 175,
      "metadata": {
        "id": "CV8NpS5AExhG",
        "colab": {
          "base_uri": "https://localhost:8080/"
        },
        "outputId": "bf839f65-b793-488d-fc4c-84ff957cb217"
      },
      "outputs": [
        {
          "output_type": "stream",
          "name": "stdout",
          "text": [
            "The testing accuracy is given by: 99.642563\n"
          ]
        }
      ],
      "source": [
        "pred_softmax = softmax_RICE.predict(X_test_RICE)\n",
        "print('The testing accuracy is given by: %f' % (get_acc(pred_softmax, y_test_RICE)))"
      ]
    },
    {
      "cell_type": "markdown",
      "metadata": {
        "id": "RjThqlgBExhG"
      },
      "source": [
        "# Logistic Classifier"
      ]
    },
    {
      "cell_type": "markdown",
      "metadata": {
        "id": "sprsEh3gExhG"
      },
      "source": [
        "The Logistic Classifier has 2 hyperparameters that you can experiment with:\n",
        "- **Learning rate** - similar to as defined above in Perceptron, this parameter scales by how much the weights are changed according to the calculated gradient update. \n",
        "- **Number of Epochs** - As described for perceptron.\n",
        "- **Threshold** - The decision boundary of the classifier.\n"
      ]
    },
    {
      "cell_type": "markdown",
      "metadata": {
        "id": "cx2ERz9OExhG"
      },
      "source": [
        "You will implement the Logistic Classifier in the **models/logistic.py**\n",
        "\n",
        "The following code: \n",
        "- Creates an instance of the Logistic classifier class \n",
        "- The train function of the Logistic class is trained on the training data\n",
        "- We use the predict function to find the training accuracy as well as the testing accuracy"
      ]
    },
    {
      "cell_type": "code",
      "source": [
        "\"\"\"Logistic regression model.\"\"\"\n",
        "\n",
        "import numpy as np\n",
        "\n",
        "\n",
        "class Logistic:\n",
        "  def __init__(self, lr: float, epochs: int, threshold: float):\n",
        "    \"\"\"Initialize a new classifier.\n",
        "\n",
        "    Parameters:\n",
        "        lr: the learning rate\n",
        "        epochs: the number of epochs to train for\n",
        "    \"\"\"\n",
        "    self.w = None  # TODO: change this\n",
        "    self.lr = lr\n",
        "    self.epochs = epochs\n",
        "    self.threshold = threshold\n",
        "\n",
        "  def sigmoid(self, z: np.ndarray) -> np.ndarray:\n",
        "    \"\"\"Sigmoid function.\n",
        "\n",
        "    Parameters:\n",
        "        z: the input\n",
        "\n",
        "    Returns:\n",
        "        the sigmoid of the input\n",
        "    \"\"\"\n",
        "    # TODO: implement me\n",
        "    return 1 / (1 + np.exp(-z))\n",
        "\n",
        "  def train(self, X_train: np.ndarray, y_train: np.ndarray):\n",
        "    \"\"\"Train the classifier.\n",
        "\n",
        "    Use the logistic regression update rule as introduced in lecture.\n",
        "\n",
        "    Parameters:\n",
        "        X_train: a numpy array of shape (N, D) containing training data;\n",
        "            N examples with D dimensions\n",
        "        y_train: a numpy array of shape (N,) containing training labels\n",
        "    \"\"\"\n",
        "    # TODO: implement me\n",
        "    N, D = X_train.shape\n",
        "    self.w = np.random.randn(D)\n",
        "\n",
        "    for epoch in range(self.epochs):\n",
        "      z = np.dot(X_train, self.w)\n",
        "      y_hat = self.sigmoid(z)\n",
        "      grad = (1 / N) * np.dot(X_train.T, y_hat - y_train)\n",
        "      self.w -= self.lr * grad\n",
        "      self.lr *= np.exp(-1 * (epoch * 0.002))\n",
        "\n",
        "  def predict(self, X_test: np.ndarray) -> np.ndarray:\n",
        "    \"\"\"Use the trained weights to predict labels for test data points.\n",
        "\n",
        "    Parameters:\n",
        "        X_test: a numpy array of shape (N, D) containing testing data;\n",
        "            N examples with D dimensions\n",
        "\n",
        "    Returns:\n",
        "        predicted labels for the data in X_test; a 1-dimensional array of\n",
        "            length N, where each element is an integer giving the predicted\n",
        "            class.\n",
        "    \"\"\"\n",
        "    # TODO: implement me\n",
        "    z = np.dot(X_test, self.w)\n",
        "    y_hat = self.sigmoid(z)\n",
        "    pred = [1 if i > self.threshold else 0 for i in y_hat]\n",
        "    return pred"
      ],
      "metadata": {
        "id": "3dSoN1ZBEedr"
      },
      "execution_count": null,
      "outputs": []
    },
    {
      "cell_type": "markdown",
      "metadata": {
        "id": "AGaIihh4ExhG"
      },
      "source": [
        "### Training Logistic Classifer"
      ]
    },
    {
      "cell_type": "code",
      "execution_count": null,
      "metadata": {
        "id": "Ss3S665NExhH",
        "colab": {
          "base_uri": "https://localhost:8080/"
        },
        "outputId": "d99e84a4-59e5-4a50-8647-45975a7e4069"
      },
      "outputs": [
        {
          "output_type": "stream",
          "name": "stderr",
          "text": [
            "<ipython-input-269-03af0186b590>:29: RuntimeWarning: overflow encountered in exp\n",
            "  return 1 / (1 + np.exp(-z))\n"
          ]
        }
      ],
      "source": [
        "learning_rate = 0.00001\n",
        "n_epochs = 180\n",
        "threshold = 0.3\n",
        "\n",
        "# 0.0006, 0.0001, 180, 0.5 - 85%\n",
        "# 0.002, 0.00001, 180, 0.5 - 92%\n",
        "# 0.002, 0.00001, 180, 0.3 - 98%\n",
        "\n",
        "lr = Logistic(learning_rate, n_epochs, threshold)\n",
        "lr.train(X_train_RICE, y_train_RICE)"
      ]
    },
    {
      "cell_type": "code",
      "execution_count": null,
      "metadata": {
        "id": "7XQCRI8lExhH",
        "colab": {
          "base_uri": "https://localhost:8080/"
        },
        "outputId": "cce78c0c-5df3-4e7a-d497-71a74ea56b1c"
      },
      "outputs": [
        {
          "output_type": "stream",
          "name": "stdout",
          "text": [
            "The training accuracy is given by: 98.671066\n"
          ]
        }
      ],
      "source": [
        "pred_lr = lr.predict(X_train_RICE)\n",
        "print('The training accuracy is given by: %f' % (get_acc(pred_lr, y_train_RICE)))"
      ]
    },
    {
      "cell_type": "markdown",
      "metadata": {
        "id": "LxpGcYJUExhH"
      },
      "source": [
        "### Validate Logistic Classifer"
      ]
    },
    {
      "cell_type": "code",
      "execution_count": null,
      "metadata": {
        "id": "z5uC1_tQExhH",
        "colab": {
          "base_uri": "https://localhost:8080/"
        },
        "outputId": "13f1b812-2efd-43e9-9963-6f5ada212694"
      },
      "outputs": [
        {
          "output_type": "stream",
          "name": "stdout",
          "text": [
            "The validation accuracy is given by: 98.680231\n"
          ]
        }
      ],
      "source": [
        "pred_lr = lr.predict(X_val_RICE)\n",
        "print('The validation accuracy is given by: %f' % (get_acc(pred_lr, y_val_RICE)))"
      ]
    },
    {
      "cell_type": "markdown",
      "metadata": {
        "id": "ZhnlPR1iExhH"
      },
      "source": [
        "### Test Logistic Classifier"
      ]
    },
    {
      "cell_type": "code",
      "execution_count": null,
      "metadata": {
        "id": "oCgazgoGExhH",
        "colab": {
          "base_uri": "https://localhost:8080/"
        },
        "outputId": "05e606ae-909c-4c1c-e536-a0df1eeba4bb"
      },
      "outputs": [
        {
          "output_type": "stream",
          "name": "stdout",
          "text": [
            "The testing accuracy is given by: 98.542755\n"
          ]
        }
      ],
      "source": [
        "pred_lr = lr.predict(X_test_RICE)\n",
        "print('The testing accuracy is given by: %f' % (get_acc(pred_lr, y_test_RICE)))"
      ]
    }
  ],
  "metadata": {
    "colab": {
      "collapsed_sections": [
        "etkCdmReExg6"
      ],
      "provenance": []
    },
    "gpuClass": "standard",
    "kernelspec": {
      "display_name": "Python 3",
      "language": "python",
      "name": "python3"
    },
    "language_info": {
      "codemirror_mode": {
        "name": "ipython",
        "version": 3
      },
      "file_extension": ".py",
      "mimetype": "text/x-python",
      "name": "python",
      "nbconvert_exporter": "python",
      "pygments_lexer": "ipython3",
      "version": "3.9.9 (main, Nov 21 2021, 03:23:42) \n[Clang 13.0.0 (clang-1300.0.29.3)]"
    },
    "vscode": {
      "interpreter": {
        "hash": "397704579725e15f5c7cb49fe5f0341eb7531c82d19f2c29d197e8b64ab5776b"
      }
    }
  },
  "nbformat": 4,
  "nbformat_minor": 0
}